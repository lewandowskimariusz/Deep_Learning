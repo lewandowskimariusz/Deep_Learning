{
  "nbformat": 4,
  "nbformat_minor": 0,
  "metadata": {
    "colab": {
      "name": "Feedforward.ipynb",
      "provenance": [],
      "authorship_tag": "ABX9TyOe6Ynlo19tnQx6eTCw1VCE",
      "include_colab_link": true
    },
    "kernelspec": {
      "name": "python3",
      "display_name": "Python 3"
    }
  },
  "cells": [
    {
      "cell_type": "markdown",
      "metadata": {
        "id": "view-in-github",
        "colab_type": "text"
      },
      "source": [
        "<a href=\"https://colab.research.google.com/github/lewandowskimariusz/Deep_Learning/blob/master/Feedforward.ipynb\" target=\"_parent\"><img src=\"https://colab.research.google.com/assets/colab-badge.svg\" alt=\"Open In Colab\"/></a>"
      ]
    },
    {
      "cell_type": "code",
      "metadata": {
        "id": "U8PbQ1KJwhQ7",
        "colab_type": "code",
        "colab": {}
      },
      "source": [
        "import numpy as np\n",
        "\n",
        "def sigmoid(x):\n",
        "  return 1.0 / (1 + np.exp(-x))\n"
      ],
      "execution_count": 16,
      "outputs": []
    },
    {
      "cell_type": "code",
      "metadata": {
        "id": "--O--sgPwn-S",
        "colab_type": "code",
        "colab": {}
      },
      "source": [
        "class NeuralNetwork:\n",
        "  def __init__(self, x, y):\n",
        "    self.input = x\n",
        "    self.weight1 = np.random.rand(self.input.shape[1],4)\n",
        "    self.weight2 = np.random.rand(4,1)\n",
        "    self.y = y\n",
        "    self.output = np.zeros(self.y.shape)\n",
        "  \n",
        "  def feedforward(self):\n",
        "    self.layer1 = sigmoid(np.dot(self.input, self.weight1))\n",
        "    self.output = sigmoid(np.dot(self.layer1, self.weight2))"
      ],
      "execution_count": 23,
      "outputs": []
    },
    {
      "cell_type": "code",
      "metadata": {
        "id": "Al0CsZf-xyuS",
        "colab_type": "code",
        "colab": {}
      },
      "source": [
        "if __name__ == \"__main\":\n",
        "  X = np.array([[0,1,1],[1,1,1]])\n",
        "  y = np.array([[0],[1]])\n",
        "  nn = NeuralNetwork(X,y)\n",
        "  \n",
        "  for i in range (1500):\n",
        "    nn.feedforward()\n",
        "\n",
        "  print(nn.output)"
      ],
      "execution_count": 24,
      "outputs": []
    },
    {
      "cell_type": "code",
      "metadata": {
        "id": "83EJOUY5ypom",
        "colab_type": "code",
        "colab": {}
      },
      "source": [
        ""
      ],
      "execution_count": null,
      "outputs": []
    }
  ]
}